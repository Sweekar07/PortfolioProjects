{
 "cells": [
  {
   "cell_type": "markdown",
   "id": "9aa5a557-c694-4811-be43-eb987d5eec2a",
   "metadata": {},
   "source": [
    "# ---> Main Script to run for scarping and sending price drop mail!"
   ]
  },
  {
   "cell_type": "code",
   "execution_count": 3,
   "id": "4322d0ee-7002-4882-96f7-8fefd9322042",
   "metadata": {},
   "outputs": [
    {
     "ename": "KeyboardInterrupt",
     "evalue": "",
     "output_type": "error",
     "traceback": [
      "\u001b[1;31m---------------------------------------------------------------------------\u001b[0m",
      "\u001b[1;31mKeyboardInterrupt\u001b[0m                         Traceback (most recent call last)",
      "\u001b[1;32m~\\AppData\\Local\\Temp/ipykernel_26492/3122529881.py\u001b[0m in \u001b[0;36m<module>\u001b[1;34m\u001b[0m\n\u001b[0;32m     37\u001b[0m \u001b[1;32mwhile\u001b[0m \u001b[1;33m(\u001b[0m\u001b[1;32mTrue\u001b[0m\u001b[1;33m)\u001b[0m\u001b[1;33m:\u001b[0m\u001b[1;33m\u001b[0m\u001b[1;33m\u001b[0m\u001b[0m\n\u001b[0;32m     38\u001b[0m     \u001b[0mcheck_price\u001b[0m\u001b[1;33m(\u001b[0m\u001b[1;33m)\u001b[0m\u001b[1;33m\u001b[0m\u001b[1;33m\u001b[0m\u001b[0m\n\u001b[1;32m---> 39\u001b[1;33m     \u001b[0mtime\u001b[0m\u001b[1;33m.\u001b[0m\u001b[0msleep\u001b[0m\u001b[1;33m(\u001b[0m\u001b[1;36m5\u001b[0m\u001b[1;33m)\u001b[0m\u001b[1;33m\u001b[0m\u001b[1;33m\u001b[0m\u001b[0m\n\u001b[0m",
      "\u001b[1;31mKeyboardInterrupt\u001b[0m: "
     ]
    }
   ],
   "source": [
    "from bs4 import BeautifulSoup\n",
    "import requests\n",
    "import time\n",
    "import datetime\n",
    "import smtplib\n",
    "import csv \n",
    "\n",
    "# connect to wesite\n",
    "URL = \"https://www.amazon.in/OnePlus-Eternal-Storage-Amazon-Credit/dp/B0BQJM2PXW/ref=sr_1_5?qid=1677430587&refinements=p_89%3AOnePlus&rnid=3837712031&s=electronics&sr=1-5&th=1\"\n",
    "# For making a genuine request\n",
    "headers = ({ \"User-Agent\": \"Mozilla/5.0 (Windows NT 10.0; Win64; x64) AppleWebKit/537.36 (KHTML, like Gecko) Chrome/110.0.0.0 Safari/537.36 Edg/110.0.1587.56\"})\n",
    "\n",
    "# Making the HTTP Request\n",
    "page = requests.get(URL, headers = headers)\n",
    "\n",
    "# Creating the Soup Object containing all data\n",
    "soup1 = BeautifulSoup(page.content, \"lxml\")\n",
    "soup = BeautifulSoup(soup1.prettify(), \"html.parser\")\n",
    "\n",
    "# Extraacting title\n",
    "title = soup.find(id = 'productTitle').get_text().strip()\n",
    "# Extracting price\n",
    "price = soup.find(\"span\", attrs = {\"class\" : 'a-offscreen'}).get_text().strip()[1:].replace(',', '') \n",
    "price = float(price)\n",
    "\n",
    "# storing timestamp for current day\n",
    "today = datetime.date.today()\n",
    "\n",
    "header = ['Title', 'Price', 'Date']\n",
    "data = [title,price, today]\n",
    "\n",
    "with open ('ScrapedAmazonData1.csv' , 'w', newline = '', encoding = 'UTF-8') as f:\n",
    "    writer = csv.writer(f)\n",
    "    writer.writerow(header)\n",
    "    writer.writerow(data)\n",
    "    \n",
    "while (True):\n",
    "    check_price()\n",
    "    time.sleep(5)"
   ]
  },
  {
   "cell_type": "markdown",
   "id": "70789c87-938a-4b9e-9a42-9df6e1806a28",
   "metadata": {},
   "source": [
    "### Check Price:"
   ]
  },
  {
   "cell_type": "code",
   "execution_count": 1,
   "id": "5e866908-187f-4942-8c24-29d0eb7d4617",
   "metadata": {},
   "outputs": [],
   "source": [
    "def check_price():\n",
    "    URL = \"https://www.amazon.in/OnePlus-Eternal-Storage-Amazon-Credit/dp/B0BQJM2PXW/ref=sr_1_5?qid=1677430587&refinements=p_89%3AOnePlus&rnid=3837712031&s=electronics&sr=1-5&th=1\"\n",
    "    \n",
    "    headers = ({ \"User-Agent\": \"Mozilla/5.0 (Windows NT 10.0; Win64; x64) AppleWebKit/537.36 (KHTML, like Gecko) Chrome/110.0.0.0 Safari/537.36 Edg/110.0.1587.56\"})\n",
    "    page = requests.get(URL, headers = headers)\n",
    "    soup1 = BeautifulSoup(page.content, \"lxml\")\n",
    "    soup = BeautifulSoup(soup1.prettify(), \"html.parser\")\n",
    "    \n",
    "    title = soup.find(id = 'productTitle').get_text().strip()\n",
    "    price = soup.find(\"span\", attrs = {\"class\" : 'a-offscreen'}).get_text().strip()[1:].replace(',', '') \n",
    "    price = float(price)\n",
    "    \n",
    "    today = datetime.date.today()\n",
    "    \n",
    "    header = ['Title', 'Price', 'Date']\n",
    "    data = [title,price, today]\n",
    "\n",
    "    with open ('ScrapedAmazonData1.csv' , 'a+', newline ='', encoding = 'UTF8') as f:\n",
    "        writer = csv.writer(f)\n",
    "        #writer.writerow(header)\n",
    "        writer.writerow(data)\n",
    "        \n",
    "    if (price <= 61999.0):\n",
    "        send_mail()"
   ]
  },
  {
   "cell_type": "markdown",
   "id": "48492641-1cbf-449d-8d4f-a1aef1dc89cf",
   "metadata": {},
   "source": [
    "### Send Mail:"
   ]
  },
  {
   "cell_type": "code",
   "execution_count": 2,
   "id": "09bdd20e-8e50-44b7-b2e3-c874c54a7b11",
   "metadata": {},
   "outputs": [],
   "source": [
    "def send_mail():\n",
    "    import smtplib\n",
    "    from email.mime.text import MIMEText\n",
    "    from email.mime.multipart import MIMEMultipart\n",
    "    from email.mime.image import MIMEImage\n",
    "\n",
    "    # Sender's email address and password\n",
    "    sender_email = \"wellwishermani7262@gmail.com\"\n",
    "\n",
    "    # Accessing password from another file for security porposes\n",
    "    file1 = open(\"wellwisher_gmailPass.txt\",\"r\")\n",
    "    data = file1.read()\n",
    "    data_into_list = data.replace('\\n', ' ').split(\".\")\n",
    "    file1.close()\n",
    "\n",
    "    # The password is stored as a list we convert it into string using list comprehension\n",
    "    StringPass = ' '.join([str(elem) for elem in data_into_list])\n",
    "    sender_password = StringPass\n",
    "\n",
    "    # Recipient email address\n",
    "    recipient_email = \"sweekar.786b@gmail.com\"\n",
    "\n",
    "    # Create a MIMEMultipart object\n",
    "    message = MIMEMultipart()\n",
    "\n",
    "    # Set the email subject, body, and sender/recipients\n",
    "    message['Subject'] = \"Price Drop Alert!\"\n",
    "    message['From'] = sender_email\n",
    "    message['To'] = recipient_email\n",
    "\n",
    "    # Add a plain text message to the MIMEMultipart object\n",
    "    text = \"Hurray! The product you have been looking for is now available at your convenient price: Url: https://www.amazon.in/OnePlus-Eternal-Storage-Amazon-Credit/dp/B0BQJM2PXW/ref=sr_1_5?qid=1677430587&refinements=p_89%3AOnePlus&rnid=3837712031&s=electronics&sr=1-5&th=1\"\n",
    "    message.attach(MIMEText(text))\n",
    "\n",
    "    # Add an image attachment to the MIMEMultipart object\n",
    "    # with open(\"image.jpg\", \"rb\") as f:\n",
    "    #     image = MIMEImage(f.read())\n",
    "    #     message.attach(image)\n",
    "\n",
    "    # Create an SMTP connection object and login with the sender's email and password\n",
    "    smtp = smtplib.SMTP('smtp.gmail.com', 587)\n",
    "    smtp.starttls()\n",
    "    smtp.login(sender_email, sender_password)\n",
    "\n",
    "    # Send the email\n",
    "    smtp.sendmail(sender_email, recipient_email, message.as_string())\n",
    "\n",
    "    # Close the SMTP connection\n",
    "    smtp.quit()\n"
   ]
  },
  {
   "cell_type": "markdown",
   "id": "f1748aac-d4a2-4da2-bbf5-eadb43a46139",
   "metadata": {},
   "source": [
    "#### I ran this script for 50 secs and I got 10 mails on eamil id. We can increase the time sleep to 8 hours i.e 60(sec) * 60(mins) * 8(hours) = 28800 secs for better functionality. For test purposes I kept it for 5 secs..."
   ]
  },
  {
   "cell_type": "markdown",
   "id": "aef9cad7-cc10-43e1-9397-3fb08544db28",
   "metadata": {},
   "source": [
    "### email notifications"
   ]
  },
  {
   "cell_type": "markdown",
   "id": "8c5fb496-b67f-425d-9bfb-40d42c0748d4",
   "metadata": {},
   "source": [
    "![SNOWFALL](Amazon1.png)"
   ]
  },
  {
   "cell_type": "code",
   "execution_count": 11,
   "id": "81f3ee39-178d-4afd-8fbf-ec25468136ce",
   "metadata": {},
   "outputs": [
    {
     "data": {
      "text/html": [
       "<img src=\"Amazon2.png\" width=\"1000\" height=\"300\"/>"
      ],
      "text/plain": [
       "<IPython.core.display.Image object>"
      ]
     },
     "execution_count": 11,
     "metadata": {},
     "output_type": "execute_result"
    }
   ],
   "source": [
    "# import image module\n",
    "from IPython.display import Image\n",
    "\n",
    "# get the image\n",
    "Image(url=\"Amazon2.png\", width=1000, height=300)"
   ]
  },
  {
   "cell_type": "code",
   "execution_count": null,
   "id": "24b660de-8d65-4368-bde7-693075cceb8e",
   "metadata": {},
   "outputs": [],
   "source": []
  }
 ],
 "metadata": {
  "kernelspec": {
   "display_name": "Python 3 (ipykernel)",
   "language": "python",
   "name": "python3"
  },
  "language_info": {
   "codemirror_mode": {
    "name": "ipython",
    "version": 3
   },
   "file_extension": ".py",
   "mimetype": "text/x-python",
   "name": "python",
   "nbconvert_exporter": "python",
   "pygments_lexer": "ipython3",
   "version": "3.9.10"
  }
 },
 "nbformat": 4,
 "nbformat_minor": 5
}
