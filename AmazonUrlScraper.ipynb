{
 "cells": [
  {
   "cell_type": "markdown",
   "id": "05a0c14b-c992-4949-9665-71a9d04528ca",
   "metadata": {},
   "source": [
    "# Scraping Amazon website for price drop and sending an email..."
   ]
  },
  {
   "cell_type": "markdown",
   "id": "052f6eb1-af34-4dab-830b-3bbdca29b53f",
   "metadata": {},
   "source": [
    "### Importing libraries"
   ]
  },
  {
   "cell_type": "code",
   "execution_count": 1,
   "id": "c0f1b795-4fa4-48dc-a91d-fd9402204b5c",
   "metadata": {},
   "outputs": [],
   "source": [
    "# importing Library\n",
    "\n",
    "from bs4 import BeautifulSoup\n",
    "import requests\n",
    "import time\n",
    "import datetime"
   ]
  },
  {
   "cell_type": "markdown",
   "id": "c9f43ea0-9d93-470d-ac05-6188d8ba6614",
   "metadata": {},
   "source": [
    "### Conncting to Amazon website"
   ]
  },
  {
   "cell_type": "code",
   "execution_count": 2,
   "id": "265ad30d-a6dc-45ed-a506-e645f48003cc",
   "metadata": {},
   "outputs": [
    {
     "data": {
      "text/plain": [
       "<Response [200]>"
      ]
     },
     "execution_count": 2,
     "metadata": {},
     "output_type": "execute_result"
    }
   ],
   "source": [
    "# connect to wesite\n",
    "\n",
    "URL = \"https://www.amazon.in/OnePlus-Eternal-Storage-Amazon-Credit/dp/B0BQJM2PXW/ref=sr_1_5?qid=1677430587&refinements=p_89%3AOnePlus&rnid=3837712031&s=electronics&sr=1-5&th=1\"\n",
    "\n",
    "headers = ({ \"User-Agent\": \"Mozilla/5.0 (Windows NT 10.0; Win64; x64) AppleWebKit/537.36 (KHTML, like Gecko) Chrome/110.0.0.0 Safari/537.36 Edg/110.0.1587.56\"})\n",
    "\n",
    "# Making the HTTP Request\n",
    "page = requests.get(URL, headers = headers)\n",
    "\n",
    "# If response message 200 is displayed connection is successful\n",
    "page"
   ]
  },
  {
   "cell_type": "markdown",
   "id": "55bf3550-51e0-4053-9af6-4227df09c097",
   "metadata": {},
   "source": [
    "### Creating \"bs4.BeautifulSoup\" for scraping our required tags from the wwebsite"
   ]
  },
  {
   "cell_type": "code",
   "execution_count": 3,
   "id": "6a5cdb8a-2ec4-49ae-83eb-2b3518d412d0",
   "metadata": {},
   "outputs": [],
   "source": [
    "# Creating the Soup Object containing all data\n",
    "\n",
    "soup1 = BeautifulSoup(page.content, \"lxml\")\n",
    "soup = BeautifulSoup(soup1.prettify(), \"html.parser\")"
   ]
  },
  {
   "cell_type": "code",
   "execution_count": 4,
   "id": "607d5aa1-e53b-4488-9146-07b45ff06d7b",
   "metadata": {},
   "outputs": [
    {
     "data": {
      "text/plain": [
       "bs4.BeautifulSoup"
      ]
     },
     "execution_count": 4,
     "metadata": {},
     "output_type": "execute_result"
    }
   ],
   "source": [
    "type(soup)"
   ]
  },
  {
   "cell_type": "markdown",
   "id": "69c62cff-e366-4007-bea0-57acc06528bf",
   "metadata": {},
   "source": [
    "### Scraping Title"
   ]
  },
  {
   "cell_type": "code",
   "execution_count": 5,
   "id": "4b176b09-0d42-4df7-a124-9ca0940bcf38",
   "metadata": {},
   "outputs": [
    {
     "data": {
      "text/plain": [
       "'OnePlus 11 5G (Eternal Green, 16GB RAM, 256GB Storage) Upto 18M No Cost EMI with ICICI Amazon Pay Credit Card'"
      ]
     },
     "execution_count": 5,
     "metadata": {},
     "output_type": "execute_result"
    }
   ],
   "source": [
    "title = soup.find(id = 'productTitle').get_text().strip()\n",
    "title"
   ]
  },
  {
   "cell_type": "markdown",
   "id": "3802893f-0a86-4ef8-8e27-a5c2c25f38d4",
   "metadata": {},
   "source": [
    "### Scraping Price"
   ]
  },
  {
   "cell_type": "code",
   "execution_count": 6,
   "id": "b7d556fc-e09a-4995-af9d-e16dd7b9ccd7",
   "metadata": {},
   "outputs": [
    {
     "data": {
      "text/plain": [
       "61999.0"
      ]
     },
     "execution_count": 6,
     "metadata": {},
     "output_type": "execute_result"
    }
   ],
   "source": [
    "# price.strip()[1:] # removes 1st element\n",
    "price = soup.find(\"span\", attrs = {\"class\" : 'a-offscreen'}).get_text().strip()[1:].replace(',', '') \n",
    "price = float(price)\n",
    "price"
   ]
  },
  {
   "cell_type": "markdown",
   "id": "9728f6ef-6001-42ff-b532-773ba14695fa",
   "metadata": {},
   "source": [
    "### Using timestamp to check extract data time"
   ]
  },
  {
   "cell_type": "code",
   "execution_count": 7,
   "id": "713dd4d1-8222-4a0f-88c9-bd4bd97115f1",
   "metadata": {},
   "outputs": [
    {
     "name": "stdout",
     "output_type": "stream",
     "text": [
      "2023-03-01\n"
     ]
    }
   ],
   "source": [
    "import datetime\n",
    "\n",
    "today = datetime.date.today()\n",
    "print(today)"
   ]
  },
  {
   "cell_type": "markdown",
   "id": "045fba3c-0a55-48d5-bc8b-a771af6d5d3b",
   "metadata": {},
   "source": [
    "### Importing the data into csv format"
   ]
  },
  {
   "cell_type": "code",
   "execution_count": 8,
   "id": "876fa785-c678-44cd-8593-7ba1ffb8637e",
   "metadata": {},
   "outputs": [],
   "source": [
    "# importing csv library\n",
    "import csv \n",
    "\n",
    "# declaring header values for our file\n",
    "header = ['Title', 'Price', 'Date']\n",
    "\n",
    "# creating a list as \"data\" having values title, price, and today\n",
    "data = [title,price, today]\n",
    "\n",
    "# Creating a new file for storing the scraped data using csv \n",
    "with open ('AmazonScrapedData.csv' , 'w', newline = '', encoding = 'UTF-8') as f:\n",
    "    writer = csv.writer(f)\n",
    "    writer.writerow(header)\n",
    "    writer.writerow(data)"
   ]
  },
  {
   "cell_type": "markdown",
   "id": "243ff610-7e09-4107-bf21-a4c378b75f08",
   "metadata": {},
   "source": [
    "### Using pandas to view the csv"
   ]
  },
  {
   "cell_type": "code",
   "execution_count": 10,
   "id": "95df9029-cc4c-421b-8d7f-d9834969ff1c",
   "metadata": {},
   "outputs": [
    {
     "data": {
      "text/html": [
       "<div>\n",
       "<style scoped>\n",
       "    .dataframe tbody tr th:only-of-type {\n",
       "        vertical-align: middle;\n",
       "    }\n",
       "\n",
       "    .dataframe tbody tr th {\n",
       "        vertical-align: top;\n",
       "    }\n",
       "\n",
       "    .dataframe thead th {\n",
       "        text-align: right;\n",
       "    }\n",
       "</style>\n",
       "<table border=\"1\" class=\"dataframe\">\n",
       "  <thead>\n",
       "    <tr style=\"text-align: right;\">\n",
       "      <th></th>\n",
       "      <th>Title</th>\n",
       "      <th>Price</th>\n",
       "      <th>Date</th>\n",
       "    </tr>\n",
       "  </thead>\n",
       "  <tbody>\n",
       "    <tr>\n",
       "      <th>0</th>\n",
       "      <td>OnePlus 11 5G (Eternal Green, 16GB RAM, 256GB ...</td>\n",
       "      <td>61999.0</td>\n",
       "      <td>2023-03-01</td>\n",
       "    </tr>\n",
       "  </tbody>\n",
       "</table>\n",
       "</div>"
      ],
      "text/plain": [
       "                                               Title    Price        Date\n",
       "0  OnePlus 11 5G (Eternal Green, 16GB RAM, 256GB ...  61999.0  2023-03-01"
      ]
     },
     "execution_count": 10,
     "metadata": {},
     "output_type": "execute_result"
    }
   ],
   "source": [
    "import pandas as pd\n",
    "\n",
    "df = pd.read_csv(r'C:/Users/Sweekar/AlexAnalyst/AmazonScrapedData.csv')\n",
    "df"
   ]
  },
  {
   "cell_type": "markdown",
   "id": "c1abe953-040b-4e86-aab3-85da03e1332a",
   "metadata": {},
   "source": [
    "### Appending the data into csv"
   ]
  },
  {
   "cell_type": "code",
   "execution_count": 12,
   "id": "84fddcda-17d1-4ff0-abe6-37b8d27ff1b9",
   "metadata": {},
   "outputs": [
    {
     "data": {
      "text/html": [
       "<div>\n",
       "<style scoped>\n",
       "    .dataframe tbody tr th:only-of-type {\n",
       "        vertical-align: middle;\n",
       "    }\n",
       "\n",
       "    .dataframe tbody tr th {\n",
       "        vertical-align: top;\n",
       "    }\n",
       "\n",
       "    .dataframe thead th {\n",
       "        text-align: right;\n",
       "    }\n",
       "</style>\n",
       "<table border=\"1\" class=\"dataframe\">\n",
       "  <thead>\n",
       "    <tr style=\"text-align: right;\">\n",
       "      <th></th>\n",
       "      <th>Title</th>\n",
       "      <th>Price</th>\n",
       "      <th>Date</th>\n",
       "    </tr>\n",
       "  </thead>\n",
       "  <tbody>\n",
       "    <tr>\n",
       "      <th>0</th>\n",
       "      <td>OnePlus 11 5G (Eternal Green, 16GB RAM, 256GB ...</td>\n",
       "      <td>61999.0</td>\n",
       "      <td>2023-03-01</td>\n",
       "    </tr>\n",
       "    <tr>\n",
       "      <th>1</th>\n",
       "      <td>OnePlus 11 5G (Eternal Green, 16GB RAM, 256GB ...</td>\n",
       "      <td>61999.0</td>\n",
       "      <td>2023-03-01</td>\n",
       "    </tr>\n",
       "  </tbody>\n",
       "</table>\n",
       "</div>"
      ],
      "text/plain": [
       "                                               Title    Price        Date\n",
       "0  OnePlus 11 5G (Eternal Green, 16GB RAM, 256GB ...  61999.0  2023-03-01\n",
       "1  OnePlus 11 5G (Eternal Green, 16GB RAM, 256GB ...  61999.0  2023-03-01"
      ]
     },
     "execution_count": 12,
     "metadata": {},
     "output_type": "execute_result"
    }
   ],
   "source": [
    "# appending the same list \"data\" values into AmazonScrapedData file using \"a+\"\n",
    "# Now, every time we run this a new row is added\n",
    "with open ('AmazonScrapedData.csv', 'a+', newline = '', encoding='UTF-8') as f:\n",
    "    writer = csv.writer(f)\n",
    "    writer.writerow(data)\n",
    "\n",
    "# re reading the file to check updated values\n",
    "df = pd.read_csv(r'C:/Users/Sweekar/AlexAnalyst/AmazonScrapedData.csv')\n",
    "df"
   ]
  },
  {
   "cell_type": "markdown",
   "id": "c3fa036b-1ed7-44f6-8d1e-fd8d55f08759",
   "metadata": {},
   "source": [
    "### Sending the mail if price drops"
   ]
  },
  {
   "cell_type": "code",
   "execution_count": 14,
   "id": "7403cec2-acd4-45e3-ad08-089e29ffcd58",
   "metadata": {},
   "outputs": [
    {
     "data": {
      "text/plain": [
       "(221,\n",
       " b'2.0.0 closing connection c13-20020a62e80d000000b005a7f8a326a3sm6443281pfi.50 - gsmtp')"
      ]
     },
     "execution_count": 14,
     "metadata": {},
     "output_type": "execute_result"
    }
   ],
   "source": [
    "import smtplib\n",
    "from email.mime.text import MIMEText\n",
    "from email.mime.multipart import MIMEMultipart\n",
    "from email.mime.image import MIMEImage\n",
    "\n",
    "# Sender's email address and password\n",
    "sender_email = \"wellwishermani7262@gmail.com\"\n",
    "\n",
    "# Accessing password from another file for security porposes\n",
    "file1 = open(\"wellwisher_gmailPass.txt\",\"r\")\n",
    "data = file1.read()\n",
    "data_into_list = data.replace('\\n', ' ').split(\".\")\n",
    "file1.close()\n",
    "\n",
    "# The password is stored as a list we convert it into string using list comprehension\n",
    "StringPass = ' '.join([str(elem) for elem in data_into_list])\n",
    "sender_password = StringPass\n",
    "\n",
    "# Recipient email address\n",
    "recipient_email = \"sweekar.786b@gmail.com\"\n",
    "\n",
    "# Create a MIMEMultipart object\n",
    "message = MIMEMultipart()\n",
    "\n",
    "# Set the email subject, body, and sender/recipients\n",
    "message['Subject'] = \"Price Drop Alert!\"\n",
    "message['From'] = sender_email\n",
    "message['To'] = recipient_email\n",
    "\n",
    "# Add a plain text message to the MIMEMultipart object\n",
    "text = \"Hurray! The product you have been looking for is now available at your convenient price: Url: https://www.amazon.in/OnePlus-Eternal-Storage-Amazon-Credit/dp/B0BQJM2PXW/ref=sr_1_5?qid=1677430587&refinements=p_89%3AOnePlus&rnid=3837712031&s=electronics&sr=1-5&th=1\"\n",
    "message.attach(MIMEText(text))\n",
    "\n",
    "# Add an image attachment to the MIMEMultipart object\n",
    "# with open(\"image.jpg\", \"rb\") as f:\n",
    "#     image = MIMEImage(f.read())\n",
    "#     message.attach(image)\n",
    "\n",
    "# Create an SMTP connection object and login with the sender's email and password\n",
    "smtp = smtplib.SMTP('smtp.gmail.com', 587)\n",
    "smtp.starttls()\n",
    "smtp.login(sender_email, sender_password)\n",
    "\n",
    "# Send the email\n",
    "smtp.sendmail(sender_email, recipient_email, message.as_string())\n",
    "\n",
    "# Close the SMTP connection\n",
    "smtp.quit()\n"
   ]
  }
 ],
 "metadata": {
  "kernelspec": {
   "display_name": "Python 3 (ipykernel)",
   "language": "python",
   "name": "python3"
  },
  "language_info": {
   "codemirror_mode": {
    "name": "ipython",
    "version": 3
   },
   "file_extension": ".py",
   "mimetype": "text/x-python",
   "name": "python",
   "nbconvert_exporter": "python",
   "pygments_lexer": "ipython3",
   "version": "3.9.10"
  }
 },
 "nbformat": 4,
 "nbformat_minor": 5
}
